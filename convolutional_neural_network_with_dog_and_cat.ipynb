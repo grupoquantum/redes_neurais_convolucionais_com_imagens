{
 "cells": [
  {
   "cell_type": "markdown",
   "metadata": {},
   "source": [
    "<h3>Convolutional Neural Networks/Redes Neurais Convolucionais na Classificação de Imagens</h3>"
   ]
  },
  {
   "cell_type": "markdown",
   "metadata": {},
   "source": [
    "<h4>Instanciação e Treinamento</h4>"
   ]
  },
  {
   "cell_type": "code",
   "execution_count": 5,
   "metadata": {},
   "outputs": [
    {
     "name": "stdout",
     "output_type": "stream",
     "text": [
      "data 0000000001 conversion progress..........: 011.111111%\n",
      "data 0000000001 conversion progress..........: 022.222222%\n",
      "data 0000000001 conversion progress..........: 033.333333%\n",
      "data 0000000001 conversion progress..........: 044.444444%\n",
      "data 0000000001 conversion progress..........: 055.555556%\n",
      "data 0000000001 conversion progress..........: 066.666667%\n",
      "data 0000000001 conversion progress..........: 077.777778%\n",
      "data 0000000001 conversion progress..........: 088.888889%\n",
      "data 0000000001 conversion progress..........: 100.000000%\n",
      "data 0000000002 conversion progress..........: 011.111111%\n",
      "data 0000000002 conversion progress..........: 022.222222%\n",
      "data 0000000002 conversion progress..........: 033.333333%\n",
      "data 0000000002 conversion progress..........: 044.444444%\n",
      "data 0000000002 conversion progress..........: 055.555556%\n",
      "data 0000000002 conversion progress..........: 066.666667%\n",
      "data 0000000002 conversion progress..........: 077.777778%\n",
      "data 0000000002 conversion progress..........: 088.888889%\n",
      "data 0000000002 conversion progress..........: 100.000000%\n",
      "data 0000000003 conversion progress..........: 011.111111%\n",
      "data 0000000003 conversion progress..........: 022.222222%\n",
      "data 0000000003 conversion progress..........: 033.333333%\n",
      "data 0000000003 conversion progress..........: 044.444444%\n",
      "data 0000000003 conversion progress..........: 055.555556%\n",
      "data 0000000003 conversion progress..........: 066.666667%\n",
      "data 0000000003 conversion progress..........: 077.777778%\n",
      "data 0000000003 conversion progress..........: 088.888889%\n",
      "data 0000000003 conversion progress..........: 100.000000%\n",
      "data 0000000004 conversion progress..........: 011.111111%\n",
      "data 0000000004 conversion progress..........: 022.222222%\n",
      "data 0000000004 conversion progress..........: 033.333333%\n",
      "data 0000000004 conversion progress..........: 044.444444%\n",
      "data 0000000004 conversion progress..........: 055.555556%\n",
      "data 0000000004 conversion progress..........: 066.666667%\n",
      "data 0000000004 conversion progress..........: 077.777778%\n",
      "data 0000000004 conversion progress..........: 088.888889%\n",
      "data 0000000004 conversion progress..........: 100.000000%\n",
      "data 0000000005 conversion progress..........: 011.111111%\n",
      "data 0000000005 conversion progress..........: 022.222222%\n",
      "data 0000000005 conversion progress..........: 033.333333%\n",
      "data 0000000005 conversion progress..........: 044.444444%\n",
      "data 0000000005 conversion progress..........: 055.555556%\n",
      "data 0000000005 conversion progress..........: 066.666667%\n",
      "data 0000000005 conversion progress..........: 077.777778%\n",
      "data 0000000005 conversion progress..........: 088.888889%\n",
      "data 0000000005 conversion progress..........: 100.000000%\n",
      "data 0000000006 conversion progress..........: 011.111111%\n",
      "data 0000000006 conversion progress..........: 022.222222%\n",
      "data 0000000006 conversion progress..........: 033.333333%\n",
      "data 0000000006 conversion progress..........: 044.444444%\n",
      "data 0000000006 conversion progress..........: 055.555556%\n",
      "data 0000000006 conversion progress..........: 066.666667%\n",
      "data 0000000006 conversion progress..........: 077.777778%\n",
      "data 0000000006 conversion progress..........: 088.888889%\n",
      "data 0000000006 conversion progress..........: 100.000000%\n"
     ]
    },
    {
     "data": {
      "text/plain": [
       "True"
      ]
     },
     "execution_count": 5,
     "metadata": {},
     "output_type": "execute_result"
    }
   ],
   "source": [
    "from Neuraline.ArtificialIntelligence.DeepLearning.convolutional_neural_network import ConvolutionalNeuralNetwork\n",
    "convolutional_neural_network = ConvolutionalNeuralNetwork(progress=True)\n",
    "\n",
    "convolutional_neural_network.addConvolutionalLayer(feature_maps=[3, 3], max_pooling=False, number_of_cores=5, step=1, activation_function='nonlinear')\n",
    "\n",
    "convolutional_neural_network.addFit(url_path=f'./images/training/cachorro', class_name='cachorro')\n",
    "convolutional_neural_network.addFit(url_path=f'./images/training/gato', class_name='gato')"
   ]
  },
  {
   "cell_type": "markdown",
   "metadata": {},
   "source": [
    "<h4>Teste Probabilístico</h4>"
   ]
  },
  {
   "cell_type": "code",
   "execution_count": 6,
   "metadata": {},
   "outputs": [
    {
     "name": "stdout",
     "output_type": "stream",
     "text": [
      "{'assertiveness': 1, 'error': 0}\n",
      "{'assertiveness': 1, 'error': 0}\n"
     ]
    }
   ],
   "source": [
    "x_dog, y_dog = ['./images/test/cachorro/image01.jpg', './images/test/cachorro/image02.jpg', './images/test/cachorro/image03.jpg'], ['cachorro', 'cachorro', 'cachorro']\n",
    "x_cat, y_cat = ['./images/test/gato/image01.jpg', './images/test/gato/image02.jpg', './images/test/gato/image03.jpg'], ['gato', 'gato', 'gato']\n",
    "\n",
    "results_dog = convolutional_neural_network.test(inputs=x_dog, outputs=y_dog)\n",
    "results_cat = convolutional_neural_network.test(inputs=x_cat, outputs=y_cat)\n",
    "\n",
    "print(results_dog)\n",
    "print(results_cat)"
   ]
  }
 ],
 "metadata": {
  "kernelspec": {
   "display_name": "Python 3.10.4 64-bit",
   "language": "python",
   "name": "python3"
  },
  "language_info": {
   "codemirror_mode": {
    "name": "ipython",
    "version": 3
   },
   "file_extension": ".py",
   "mimetype": "text/x-python",
   "name": "python",
   "nbconvert_exporter": "python",
   "pygments_lexer": "ipython3",
   "version": "3.10.4"
  },
  "orig_nbformat": 4,
  "vscode": {
   "interpreter": {
    "hash": "916dbcbb3f70747c44a77c7bcd40155683ae19c65e1c03b4aa3499c5328201f1"
   }
  }
 },
 "nbformat": 4,
 "nbformat_minor": 2
}
